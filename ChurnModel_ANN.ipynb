{
  "nbformat": 4,
  "nbformat_minor": 0,
  "metadata": {
    "colab": {
      "provenance": [],
      "gpuType": "T4",
      "authorship_tag": "ABX9TyM59ln45TfkT8jeJQQmkFKx",
      "include_colab_link": true
    },
    "kernelspec": {
      "name": "python3",
      "display_name": "Python 3"
    },
    "language_info": {
      "name": "python"
    },
    "accelerator": "GPU"
  },
  "cells": [
    {
      "cell_type": "markdown",
      "metadata": {
        "id": "view-in-github",
        "colab_type": "text"
      },
      "source": [
        "<a href=\"https://colab.research.google.com/github/Phantom1746a/ChurnModel_ANN/blob/main/ChurnModel_ANN.ipynb\" target=\"_parent\"><img src=\"https://colab.research.google.com/assets/colab-badge.svg\" alt=\"Open In Colab\"/></a>"
      ]
    },
    {
      "cell_type": "markdown",
      "source": [
        "Import Dataset"
      ],
      "metadata": {
        "id": "G_UuH-c20J5q"
      }
    },
    {
      "cell_type": "code",
      "execution_count": 16,
      "metadata": {
        "id": "nG01XIDEvudj"
      },
      "outputs": [],
      "source": [
        "import pandas as pd\n",
        "from sklearn.model_selection import train_test_split\n",
        "import numpy as np"
      ]
    },
    {
      "cell_type": "code",
      "source": [
        "df= pd.read_csv('Churn.csv')"
      ],
      "metadata": {
        "id": "9futFGWA0sJ8"
      },
      "execution_count": 2,
      "outputs": []
    },
    {
      "cell_type": "code",
      "source": [
        "# declaring dependent and independent variable\n",
        "x =pd.get_dummies(df.drop(['Churn', 'Customer ID'],axis=1))\n",
        "y = df['Churn'].apply(lambda x:1 if x=='Yes' else 0)"
      ],
      "metadata": {
        "id": "FYnlLwOE0w5M"
      },
      "execution_count": 4,
      "outputs": []
    },
    {
      "cell_type": "code",
      "source": [
        "X_train, X_test, y_train, y_test = train_test_split(x, y, test_size=0.2)\n",
        "X_train = X_train.astype(np.float32)\n",
        "X_test = X_test.astype(np.float32)\n",
        "y_train = y_train.astype(np.float32)\n",
        "y_test = y_test.astype(np.float32)"
      ],
      "metadata": {
        "id": "m167cVDm14SG"
      },
      "execution_count": 17,
      "outputs": []
    },
    {
      "cell_type": "code",
      "source": [
        "X_train.head()"
      ],
      "metadata": {
        "colab": {
          "base_uri": "https://localhost:8080/",
          "height": 273
        },
        "id": "HN2mGcB02EHr",
        "outputId": "7d9c6dbd-caf0-414e-bea9-dba8bbf9e257"
      },
      "execution_count": 6,
      "outputs": [
        {
          "output_type": "execute_result",
          "data": {
            "text/plain": [
              "      Senior Citizen  tenure  Monthly Charges  Gender_Female  Gender_Male  \\\n",
              "6046               0      38            19.60           True        False   \n",
              "289                1       8            74.50          False         True   \n",
              "108                0      32            30.15           True        False   \n",
              "2373               0      71            90.30          False         True   \n",
              "4249               0      56            90.55           True        False   \n",
              "\n",
              "      Partner_No  Partner_Yes  Dependents_No  Dependents_Yes  \\\n",
              "6046       False         True          False            True   \n",
              "289         True        False           True           False   \n",
              "108         True        False           True           False   \n",
              "2373       False         True          False            True   \n",
              "4249       False         True           True           False   \n",
              "\n",
              "      Phone Service_No  ...  Total Charges_995.35  Total Charges_996.45  \\\n",
              "6046             False  ...                 False                 False   \n",
              "289              False  ...                 False                 False   \n",
              "108               True  ...                 False                 False   \n",
              "2373             False  ...                 False                 False   \n",
              "4249             False  ...                 False                 False   \n",
              "\n",
              "      Total Charges_996.85  Total Charges_996.95  Total Charges_997.65  \\\n",
              "6046                 False                 False                 False   \n",
              "289                  False                 False                 False   \n",
              "108                  False                 False                 False   \n",
              "2373                 False                 False                 False   \n",
              "4249                 False                 False                 False   \n",
              "\n",
              "      Total Charges_997.75  Total Charges_998.1  Total Charges_999.45  \\\n",
              "6046                 False                False                 False   \n",
              "289                  False                False                 False   \n",
              "108                  False                False                 False   \n",
              "2373                 False                False                 False   \n",
              "4249                 False                False                 False   \n",
              "\n",
              "      Total Charges_999.8  Total Charges_999.9  \n",
              "6046                False                False  \n",
              "289                 False                False  \n",
              "108                 False                False  \n",
              "2373                False                False  \n",
              "4249                False                False  \n",
              "\n",
              "[5 rows x 6575 columns]"
            ],
            "text/html": [
              "\n",
              "  <div id=\"df-afbbbc6d-7e10-441e-8998-b78c4911a948\" class=\"colab-df-container\">\n",
              "    <div>\n",
              "<style scoped>\n",
              "    .dataframe tbody tr th:only-of-type {\n",
              "        vertical-align: middle;\n",
              "    }\n",
              "\n",
              "    .dataframe tbody tr th {\n",
              "        vertical-align: top;\n",
              "    }\n",
              "\n",
              "    .dataframe thead th {\n",
              "        text-align: right;\n",
              "    }\n",
              "</style>\n",
              "<table border=\"1\" class=\"dataframe\">\n",
              "  <thead>\n",
              "    <tr style=\"text-align: right;\">\n",
              "      <th></th>\n",
              "      <th>Senior Citizen</th>\n",
              "      <th>tenure</th>\n",
              "      <th>Monthly Charges</th>\n",
              "      <th>Gender_Female</th>\n",
              "      <th>Gender_Male</th>\n",
              "      <th>Partner_No</th>\n",
              "      <th>Partner_Yes</th>\n",
              "      <th>Dependents_No</th>\n",
              "      <th>Dependents_Yes</th>\n",
              "      <th>Phone Service_No</th>\n",
              "      <th>...</th>\n",
              "      <th>Total Charges_995.35</th>\n",
              "      <th>Total Charges_996.45</th>\n",
              "      <th>Total Charges_996.85</th>\n",
              "      <th>Total Charges_996.95</th>\n",
              "      <th>Total Charges_997.65</th>\n",
              "      <th>Total Charges_997.75</th>\n",
              "      <th>Total Charges_998.1</th>\n",
              "      <th>Total Charges_999.45</th>\n",
              "      <th>Total Charges_999.8</th>\n",
              "      <th>Total Charges_999.9</th>\n",
              "    </tr>\n",
              "  </thead>\n",
              "  <tbody>\n",
              "    <tr>\n",
              "      <th>6046</th>\n",
              "      <td>0</td>\n",
              "      <td>38</td>\n",
              "      <td>19.60</td>\n",
              "      <td>True</td>\n",
              "      <td>False</td>\n",
              "      <td>False</td>\n",
              "      <td>True</td>\n",
              "      <td>False</td>\n",
              "      <td>True</td>\n",
              "      <td>False</td>\n",
              "      <td>...</td>\n",
              "      <td>False</td>\n",
              "      <td>False</td>\n",
              "      <td>False</td>\n",
              "      <td>False</td>\n",
              "      <td>False</td>\n",
              "      <td>False</td>\n",
              "      <td>False</td>\n",
              "      <td>False</td>\n",
              "      <td>False</td>\n",
              "      <td>False</td>\n",
              "    </tr>\n",
              "    <tr>\n",
              "      <th>289</th>\n",
              "      <td>1</td>\n",
              "      <td>8</td>\n",
              "      <td>74.50</td>\n",
              "      <td>False</td>\n",
              "      <td>True</td>\n",
              "      <td>True</td>\n",
              "      <td>False</td>\n",
              "      <td>True</td>\n",
              "      <td>False</td>\n",
              "      <td>False</td>\n",
              "      <td>...</td>\n",
              "      <td>False</td>\n",
              "      <td>False</td>\n",
              "      <td>False</td>\n",
              "      <td>False</td>\n",
              "      <td>False</td>\n",
              "      <td>False</td>\n",
              "      <td>False</td>\n",
              "      <td>False</td>\n",
              "      <td>False</td>\n",
              "      <td>False</td>\n",
              "    </tr>\n",
              "    <tr>\n",
              "      <th>108</th>\n",
              "      <td>0</td>\n",
              "      <td>32</td>\n",
              "      <td>30.15</td>\n",
              "      <td>True</td>\n",
              "      <td>False</td>\n",
              "      <td>True</td>\n",
              "      <td>False</td>\n",
              "      <td>True</td>\n",
              "      <td>False</td>\n",
              "      <td>True</td>\n",
              "      <td>...</td>\n",
              "      <td>False</td>\n",
              "      <td>False</td>\n",
              "      <td>False</td>\n",
              "      <td>False</td>\n",
              "      <td>False</td>\n",
              "      <td>False</td>\n",
              "      <td>False</td>\n",
              "      <td>False</td>\n",
              "      <td>False</td>\n",
              "      <td>False</td>\n",
              "    </tr>\n",
              "    <tr>\n",
              "      <th>2373</th>\n",
              "      <td>0</td>\n",
              "      <td>71</td>\n",
              "      <td>90.30</td>\n",
              "      <td>False</td>\n",
              "      <td>True</td>\n",
              "      <td>False</td>\n",
              "      <td>True</td>\n",
              "      <td>False</td>\n",
              "      <td>True</td>\n",
              "      <td>False</td>\n",
              "      <td>...</td>\n",
              "      <td>False</td>\n",
              "      <td>False</td>\n",
              "      <td>False</td>\n",
              "      <td>False</td>\n",
              "      <td>False</td>\n",
              "      <td>False</td>\n",
              "      <td>False</td>\n",
              "      <td>False</td>\n",
              "      <td>False</td>\n",
              "      <td>False</td>\n",
              "    </tr>\n",
              "    <tr>\n",
              "      <th>4249</th>\n",
              "      <td>0</td>\n",
              "      <td>56</td>\n",
              "      <td>90.55</td>\n",
              "      <td>True</td>\n",
              "      <td>False</td>\n",
              "      <td>False</td>\n",
              "      <td>True</td>\n",
              "      <td>True</td>\n",
              "      <td>False</td>\n",
              "      <td>False</td>\n",
              "      <td>...</td>\n",
              "      <td>False</td>\n",
              "      <td>False</td>\n",
              "      <td>False</td>\n",
              "      <td>False</td>\n",
              "      <td>False</td>\n",
              "      <td>False</td>\n",
              "      <td>False</td>\n",
              "      <td>False</td>\n",
              "      <td>False</td>\n",
              "      <td>False</td>\n",
              "    </tr>\n",
              "  </tbody>\n",
              "</table>\n",
              "<p>5 rows × 6575 columns</p>\n",
              "</div>\n",
              "    <div class=\"colab-df-buttons\">\n",
              "\n",
              "  <div class=\"colab-df-container\">\n",
              "    <button class=\"colab-df-convert\" onclick=\"convertToInteractive('df-afbbbc6d-7e10-441e-8998-b78c4911a948')\"\n",
              "            title=\"Convert this dataframe to an interactive table.\"\n",
              "            style=\"display:none;\">\n",
              "\n",
              "  <svg xmlns=\"http://www.w3.org/2000/svg\" height=\"24px\" viewBox=\"0 -960 960 960\">\n",
              "    <path d=\"M120-120v-720h720v720H120Zm60-500h600v-160H180v160Zm220 220h160v-160H400v160Zm0 220h160v-160H400v160ZM180-400h160v-160H180v160Zm440 0h160v-160H620v160ZM180-180h160v-160H180v160Zm440 0h160v-160H620v160Z\"/>\n",
              "  </svg>\n",
              "    </button>\n",
              "\n",
              "  <style>\n",
              "    .colab-df-container {\n",
              "      display:flex;\n",
              "      gap: 12px;\n",
              "    }\n",
              "\n",
              "    .colab-df-convert {\n",
              "      background-color: #E8F0FE;\n",
              "      border: none;\n",
              "      border-radius: 50%;\n",
              "      cursor: pointer;\n",
              "      display: none;\n",
              "      fill: #1967D2;\n",
              "      height: 32px;\n",
              "      padding: 0 0 0 0;\n",
              "      width: 32px;\n",
              "    }\n",
              "\n",
              "    .colab-df-convert:hover {\n",
              "      background-color: #E2EBFA;\n",
              "      box-shadow: 0px 1px 2px rgba(60, 64, 67, 0.3), 0px 1px 3px 1px rgba(60, 64, 67, 0.15);\n",
              "      fill: #174EA6;\n",
              "    }\n",
              "\n",
              "    .colab-df-buttons div {\n",
              "      margin-bottom: 4px;\n",
              "    }\n",
              "\n",
              "    [theme=dark] .colab-df-convert {\n",
              "      background-color: #3B4455;\n",
              "      fill: #D2E3FC;\n",
              "    }\n",
              "\n",
              "    [theme=dark] .colab-df-convert:hover {\n",
              "      background-color: #434B5C;\n",
              "      box-shadow: 0px 1px 3px 1px rgba(0, 0, 0, 0.15);\n",
              "      filter: drop-shadow(0px 1px 2px rgba(0, 0, 0, 0.3));\n",
              "      fill: #FFFFFF;\n",
              "    }\n",
              "  </style>\n",
              "\n",
              "    <script>\n",
              "      const buttonEl =\n",
              "        document.querySelector('#df-afbbbc6d-7e10-441e-8998-b78c4911a948 button.colab-df-convert');\n",
              "      buttonEl.style.display =\n",
              "        google.colab.kernel.accessAllowed ? 'block' : 'none';\n",
              "\n",
              "      async function convertToInteractive(key) {\n",
              "        const element = document.querySelector('#df-afbbbc6d-7e10-441e-8998-b78c4911a948');\n",
              "        const dataTable =\n",
              "          await google.colab.kernel.invokeFunction('convertToInteractive',\n",
              "                                                    [key], {});\n",
              "        if (!dataTable) return;\n",
              "\n",
              "        const docLinkHtml = 'Like what you see? Visit the ' +\n",
              "          '<a target=\"_blank\" href=https://colab.research.google.com/notebooks/data_table.ipynb>data table notebook</a>'\n",
              "          + ' to learn more about interactive tables.';\n",
              "        element.innerHTML = '';\n",
              "        dataTable['output_type'] = 'display_data';\n",
              "        await google.colab.output.renderOutput(dataTable, element);\n",
              "        const docLink = document.createElement('div');\n",
              "        docLink.innerHTML = docLinkHtml;\n",
              "        element.appendChild(docLink);\n",
              "      }\n",
              "    </script>\n",
              "  </div>\n",
              "\n",
              "\n",
              "<div id=\"df-13b77cbb-53e8-491f-8995-6e90c1ddfd08\">\n",
              "  <button class=\"colab-df-quickchart\" onclick=\"quickchart('df-13b77cbb-53e8-491f-8995-6e90c1ddfd08')\"\n",
              "            title=\"Suggest charts\"\n",
              "            style=\"display:none;\">\n",
              "\n",
              "<svg xmlns=\"http://www.w3.org/2000/svg\" height=\"24px\"viewBox=\"0 0 24 24\"\n",
              "     width=\"24px\">\n",
              "    <g>\n",
              "        <path d=\"M19 3H5c-1.1 0-2 .9-2 2v14c0 1.1.9 2 2 2h14c1.1 0 2-.9 2-2V5c0-1.1-.9-2-2-2zM9 17H7v-7h2v7zm4 0h-2V7h2v10zm4 0h-2v-4h2v4z\"/>\n",
              "    </g>\n",
              "</svg>\n",
              "  </button>\n",
              "\n",
              "<style>\n",
              "  .colab-df-quickchart {\n",
              "      --bg-color: #E8F0FE;\n",
              "      --fill-color: #1967D2;\n",
              "      --hover-bg-color: #E2EBFA;\n",
              "      --hover-fill-color: #174EA6;\n",
              "      --disabled-fill-color: #AAA;\n",
              "      --disabled-bg-color: #DDD;\n",
              "  }\n",
              "\n",
              "  [theme=dark] .colab-df-quickchart {\n",
              "      --bg-color: #3B4455;\n",
              "      --fill-color: #D2E3FC;\n",
              "      --hover-bg-color: #434B5C;\n",
              "      --hover-fill-color: #FFFFFF;\n",
              "      --disabled-bg-color: #3B4455;\n",
              "      --disabled-fill-color: #666;\n",
              "  }\n",
              "\n",
              "  .colab-df-quickchart {\n",
              "    background-color: var(--bg-color);\n",
              "    border: none;\n",
              "    border-radius: 50%;\n",
              "    cursor: pointer;\n",
              "    display: none;\n",
              "    fill: var(--fill-color);\n",
              "    height: 32px;\n",
              "    padding: 0;\n",
              "    width: 32px;\n",
              "  }\n",
              "\n",
              "  .colab-df-quickchart:hover {\n",
              "    background-color: var(--hover-bg-color);\n",
              "    box-shadow: 0 1px 2px rgba(60, 64, 67, 0.3), 0 1px 3px 1px rgba(60, 64, 67, 0.15);\n",
              "    fill: var(--button-hover-fill-color);\n",
              "  }\n",
              "\n",
              "  .colab-df-quickchart-complete:disabled,\n",
              "  .colab-df-quickchart-complete:disabled:hover {\n",
              "    background-color: var(--disabled-bg-color);\n",
              "    fill: var(--disabled-fill-color);\n",
              "    box-shadow: none;\n",
              "  }\n",
              "\n",
              "  .colab-df-spinner {\n",
              "    border: 2px solid var(--fill-color);\n",
              "    border-color: transparent;\n",
              "    border-bottom-color: var(--fill-color);\n",
              "    animation:\n",
              "      spin 1s steps(1) infinite;\n",
              "  }\n",
              "\n",
              "  @keyframes spin {\n",
              "    0% {\n",
              "      border-color: transparent;\n",
              "      border-bottom-color: var(--fill-color);\n",
              "      border-left-color: var(--fill-color);\n",
              "    }\n",
              "    20% {\n",
              "      border-color: transparent;\n",
              "      border-left-color: var(--fill-color);\n",
              "      border-top-color: var(--fill-color);\n",
              "    }\n",
              "    30% {\n",
              "      border-color: transparent;\n",
              "      border-left-color: var(--fill-color);\n",
              "      border-top-color: var(--fill-color);\n",
              "      border-right-color: var(--fill-color);\n",
              "    }\n",
              "    40% {\n",
              "      border-color: transparent;\n",
              "      border-right-color: var(--fill-color);\n",
              "      border-top-color: var(--fill-color);\n",
              "    }\n",
              "    60% {\n",
              "      border-color: transparent;\n",
              "      border-right-color: var(--fill-color);\n",
              "    }\n",
              "    80% {\n",
              "      border-color: transparent;\n",
              "      border-right-color: var(--fill-color);\n",
              "      border-bottom-color: var(--fill-color);\n",
              "    }\n",
              "    90% {\n",
              "      border-color: transparent;\n",
              "      border-bottom-color: var(--fill-color);\n",
              "    }\n",
              "  }\n",
              "</style>\n",
              "\n",
              "  <script>\n",
              "    async function quickchart(key) {\n",
              "      const quickchartButtonEl =\n",
              "        document.querySelector('#' + key + ' button');\n",
              "      quickchartButtonEl.disabled = true;  // To prevent multiple clicks.\n",
              "      quickchartButtonEl.classList.add('colab-df-spinner');\n",
              "      try {\n",
              "        const charts = await google.colab.kernel.invokeFunction(\n",
              "            'suggestCharts', [key], {});\n",
              "      } catch (error) {\n",
              "        console.error('Error during call to suggestCharts:', error);\n",
              "      }\n",
              "      quickchartButtonEl.classList.remove('colab-df-spinner');\n",
              "      quickchartButtonEl.classList.add('colab-df-quickchart-complete');\n",
              "    }\n",
              "    (() => {\n",
              "      let quickchartButtonEl =\n",
              "        document.querySelector('#df-13b77cbb-53e8-491f-8995-6e90c1ddfd08 button');\n",
              "      quickchartButtonEl.style.display =\n",
              "        google.colab.kernel.accessAllowed ? 'block' : 'none';\n",
              "    })();\n",
              "  </script>\n",
              "</div>\n",
              "\n",
              "    </div>\n",
              "  </div>\n"
            ],
            "application/vnd.google.colaboratory.intrinsic+json": {
              "type": "dataframe",
              "variable_name": "X_train"
            }
          },
          "metadata": {},
          "execution_count": 6
        }
      ]
    },
    {
      "cell_type": "code",
      "source": [
        "y_train.head()"
      ],
      "metadata": {
        "colab": {
          "base_uri": "https://localhost:8080/"
        },
        "id": "Gm8YpOi02H67",
        "outputId": "18d17370-23e4-4a0a-c56f-1c92f75039b6"
      },
      "execution_count": 8,
      "outputs": [
        {
          "output_type": "execute_result",
          "data": {
            "text/plain": [
              "6046    0\n",
              "289     1\n",
              "108     0\n",
              "2373    0\n",
              "4249    0\n",
              "Name: Churn, dtype: int64"
            ]
          },
          "metadata": {},
          "execution_count": 8
        }
      ]
    },
    {
      "cell_type": "markdown",
      "source": [
        "Import Dependencies"
      ],
      "metadata": {
        "id": "soo7aiw92NW7"
      }
    },
    {
      "cell_type": "code",
      "source": [
        "from tensorflow.keras.models import Sequential, load_model\n",
        "from tensorflow.keras.layers import Dense\n",
        "from tensorflow.keras.layers import LeakyReLU, PReLU, ELU,ReLU\n",
        "from tensorflow.keras.layers import Dropout\n",
        "from sklearn.metrics import accuracy_score\n"
      ],
      "metadata": {
        "id": "sryCt53i2mTd"
      },
      "execution_count": 22,
      "outputs": []
    },
    {
      "cell_type": "markdown",
      "source": [
        "Build and compile model"
      ],
      "metadata": {
        "id": "wFScOwhh26BZ"
      }
    },
    {
      "cell_type": "code",
      "source": [
        "#initializing Artificial Neural Network\n",
        "model = Sequential()\n",
        "#adding layers to Artificial neural network\n",
        "model.add(Dense(units = 7, activation = 'relu',input_dim=len(X_train.columns))) #input_dim parameter for the neural network layer to the number of features in the training data (X_train).\n",
        "model.add(Dense(units = 6, activation = 'relu'))\n",
        "model.add(Dense(units = 1, activation = 'sigmoid'))\n"
      ],
      "metadata": {
        "id": "5QeofQ7b33tM"
      },
      "execution_count": 23,
      "outputs": []
    },
    {
      "cell_type": "code",
      "source": [
        "model.summary()"
      ],
      "metadata": {
        "colab": {
          "base_uri": "https://localhost:8080/"
        },
        "id": "gwcd4sZ85Fkm",
        "outputId": "66438514-8ab8-453d-c474-0c91aa158fe2"
      },
      "execution_count": 24,
      "outputs": [
        {
          "output_type": "stream",
          "name": "stdout",
          "text": [
            "Model: \"sequential_1\"\n",
            "_________________________________________________________________\n",
            " Layer (type)                Output Shape              Param #   \n",
            "=================================================================\n",
            " dense_3 (Dense)             (None, 7)                 46032     \n",
            "                                                                 \n",
            " dense_4 (Dense)             (None, 6)                 48        \n",
            "                                                                 \n",
            " dense_5 (Dense)             (None, 1)                 7         \n",
            "                                                                 \n",
            "=================================================================\n",
            "Total params: 46087 (180.03 KB)\n",
            "Trainable params: 46087 (180.03 KB)\n",
            "Non-trainable params: 0 (0.00 Byte)\n",
            "_________________________________________________________________\n"
          ]
        }
      ]
    },
    {
      "cell_type": "code",
      "source": [
        "import tensorflow\n",
        "optimizer=tensorflow.keras.optimizers.Adam(learning_rate=0.01)\n",
        "model.compile(optimizer='adam', loss='binary_crossentropy', metrics=['accuracy'])"
      ],
      "metadata": {
        "id": "MoHfW9Lg5-Ge"
      },
      "execution_count": 36,
      "outputs": []
    },
    {
      "cell_type": "code",
      "source": [
        "# Early stoping\n",
        "early_stoping=tensorflow.keras.callbacks.EarlyStopping(monitor='val_loss',\n",
        "                                                       min_delta=0.0001,\n",
        "                                                       patience=20,\n",
        "                                                       verbose=1,\n",
        "                                                       mode='auto',\n",
        "                                                       baseline=None,\n",
        "                                                       restore_best_weights=False,\n",
        "                                                       )\n"
      ],
      "metadata": {
        "id": "e0XV6o0l_6nz"
      },
      "execution_count": 39,
      "outputs": []
    },
    {
      "cell_type": "markdown",
      "source": [
        "Training and Evaluating model"
      ],
      "metadata": {
        "id": "TyjlX-0G5IWK"
      }
    },
    {
      "cell_type": "code",
      "source": [
        "model_history=model.fit(X_train, y_train, validation_split=0.33 ,epochs=1000, batch_size=10,callbacks=early_stoping)"
      ],
      "metadata": {
        "colab": {
          "base_uri": "https://localhost:8080/"
        },
        "id": "cf2laEAJ564K",
        "outputId": "6fe24689-04e3-4b30-d99b-6f63d39d7abc"
      },
      "execution_count": 41,
      "outputs": [
        {
          "output_type": "stream",
          "name": "stdout",
          "text": [
            "Epoch 1/1000\n",
            "378/378 [==============================] - 1s 3ms/step - loss: 0.0256 - accuracy: 0.9875 - val_loss: 0.1363 - val_accuracy: 0.9667\n",
            "Epoch 2/1000\n",
            "378/378 [==============================] - 1s 3ms/step - loss: 0.0258 - accuracy: 0.9860 - val_loss: 0.1308 - val_accuracy: 0.9715\n",
            "Epoch 3/1000\n",
            "378/378 [==============================] - 1s 3ms/step - loss: 0.0269 - accuracy: 0.9860 - val_loss: 0.1335 - val_accuracy: 0.9710\n",
            "Epoch 4/1000\n",
            "378/378 [==============================] - 1s 3ms/step - loss: 0.0247 - accuracy: 0.9886 - val_loss: 0.2083 - val_accuracy: 0.9409\n",
            "Epoch 5/1000\n",
            "378/378 [==============================] - 1s 3ms/step - loss: 0.0243 - accuracy: 0.9870 - val_loss: 0.1431 - val_accuracy: 0.9683\n",
            "Epoch 6/1000\n",
            "378/378 [==============================] - 1s 3ms/step - loss: 0.0248 - accuracy: 0.9891 - val_loss: 0.1457 - val_accuracy: 0.9699\n",
            "Epoch 7/1000\n",
            "378/378 [==============================] - 2s 5ms/step - loss: 0.0249 - accuracy: 0.9883 - val_loss: 0.1393 - val_accuracy: 0.9683\n",
            "Epoch 8/1000\n",
            "378/378 [==============================] - 2s 5ms/step - loss: 0.0237 - accuracy: 0.9886 - val_loss: 0.1726 - val_accuracy: 0.9624\n",
            "Epoch 9/1000\n",
            "378/378 [==============================] - 1s 3ms/step - loss: 0.0243 - accuracy: 0.9873 - val_loss: 0.1441 - val_accuracy: 0.9699\n",
            "Epoch 10/1000\n",
            "378/378 [==============================] - 1s 3ms/step - loss: 0.0245 - accuracy: 0.9883 - val_loss: 0.1564 - val_accuracy: 0.9661\n",
            "Epoch 11/1000\n",
            "378/378 [==============================] - 1s 3ms/step - loss: 0.0232 - accuracy: 0.9868 - val_loss: 0.2375 - val_accuracy: 0.9290\n",
            "Epoch 12/1000\n",
            "378/378 [==============================] - 1s 3ms/step - loss: 0.0254 - accuracy: 0.9878 - val_loss: 0.1509 - val_accuracy: 0.9688\n",
            "Epoch 13/1000\n",
            "378/378 [==============================] - 1s 3ms/step - loss: 0.0252 - accuracy: 0.9881 - val_loss: 0.1782 - val_accuracy: 0.9608\n",
            "Epoch 14/1000\n",
            "378/378 [==============================] - 1s 3ms/step - loss: 0.0224 - accuracy: 0.9897 - val_loss: 0.1481 - val_accuracy: 0.9699\n",
            "Epoch 15/1000\n",
            "378/378 [==============================] - 1s 3ms/step - loss: 0.0236 - accuracy: 0.9868 - val_loss: 0.1510 - val_accuracy: 0.9688\n",
            "Epoch 16/1000\n",
            "378/378 [==============================] - 1s 3ms/step - loss: 0.0223 - accuracy: 0.9889 - val_loss: 0.1582 - val_accuracy: 0.9651\n",
            "Epoch 17/1000\n",
            "378/378 [==============================] - 2s 4ms/step - loss: 0.0248 - accuracy: 0.9873 - val_loss: 0.1723 - val_accuracy: 0.9618\n",
            "Epoch 18/1000\n",
            "378/378 [==============================] - 2s 5ms/step - loss: 0.0237 - accuracy: 0.9894 - val_loss: 0.1742 - val_accuracy: 0.9618\n",
            "Epoch 19/1000\n",
            "378/378 [==============================] - 1s 4ms/step - loss: 0.0233 - accuracy: 0.9881 - val_loss: 0.1895 - val_accuracy: 0.9591\n",
            "Epoch 20/1000\n",
            "378/378 [==============================] - 1s 3ms/step - loss: 0.0284 - accuracy: 0.9865 - val_loss: 0.1755 - val_accuracy: 0.9624\n",
            "Epoch 21/1000\n",
            "378/378 [==============================] - 1s 3ms/step - loss: 0.0253 - accuracy: 0.9878 - val_loss: 0.1680 - val_accuracy: 0.9656\n",
            "Epoch 22/1000\n",
            "378/378 [==============================] - 1s 3ms/step - loss: 0.0237 - accuracy: 0.9889 - val_loss: 0.1768 - val_accuracy: 0.9629\n",
            "Epoch 22: early stopping\n"
          ]
        }
      ]
    },
    {
      "cell_type": "code",
      "source": [
        "model_history.history.keys()\n"
      ],
      "metadata": {
        "colab": {
          "base_uri": "https://localhost:8080/"
        },
        "id": "qIEB_YbGB7Vw",
        "outputId": "c9f7747f-f59c-4ad9-bfab-d2f9db225704"
      },
      "execution_count": 45,
      "outputs": [
        {
          "output_type": "execute_result",
          "data": {
            "text/plain": [
              "dict_keys(['loss', 'accuracy', 'val_loss', 'val_accuracy'])"
            ]
          },
          "metadata": {},
          "execution_count": 45
        }
      ]
    },
    {
      "cell_type": "code",
      "source": [
        "# ploting history\n",
        "import matplotlib.pyplot as plt\n",
        "plt.plot(model_history.history['accuracy'])\n",
        "plt.plot(model_history.history['val_accuracy'])\n",
        "plt.title('model accuracy')\n",
        "plt.ylabel('accuracy')\n",
        "plt.xlabel('epoch')\n",
        "plt.legend(['train', 'test'], loc='upper left')\n",
        "plt.show()"
      ],
      "metadata": {
        "colab": {
          "base_uri": "https://localhost:8080/",
          "height": 472
        },
        "id": "7LtPqHQDCKpe",
        "outputId": "ae9c5a03-4295-4e0c-c6ec-13a33a2c10aa"
      },
      "execution_count": 46,
      "outputs": [
        {
          "output_type": "display_data",
          "data": {
            "text/plain": [
              "<Figure size 640x480 with 1 Axes>"
            ],
            "image/png": "[encoded data removed]"
          },
          "metadata": {}
        }
      ]
    },
    {
      "cell_type": "code",
      "source": [
        "#summarize history for loss\n",
        "plt.plot(model_history.history['loss'])\n",
        "plt.plot(model_history.history['val_loss'])\n",
        "plt.title('model loss')\n",
        "plt.ylabel('loss')\n",
        "plt.xlabel('epoch')\n",
        "plt.legend(['train', 'test'], loc='upper left')\n",
        "plt.show()"
      ],
      "metadata": {
        "colab": {
          "base_uri": "https://localhost:8080/",
          "height": 472
        },
        "id": "gmrEhO9CCyku",
        "outputId": "c295dbed-722a-4973-d21b-c8513cd25677"
      },
      "execution_count": 53,
      "outputs": [
        {
          "output_type": "display_data",
          "data": {
            "text/plain": [
              "<Figure size 640x480 with 1 Axes>"
            ],
            "image/png": "[encoded data removed]"
          },
          "metadata": {}
        }
      ]
    },
    {
      "cell_type": "code",
      "source": [
        "y_pred = model.predict(X_test)\n",
        "y_pred = [0 if val < 0.5 else 1 for val in y_pred]"
      ],
      "metadata": {
        "colab": {
          "base_uri": "https://localhost:8080/"
        },
        "id": "JOY2I-XX6UR8",
        "outputId": "20883308-4967-440a-c3b7-21f55a8c7cfe"
      },
      "execution_count": 48,
      "outputs": [
        {
          "output_type": "stream",
          "name": "stdout",
          "text": [
            "45/45 [==============================] - 0s 2ms/step\n"
          ]
        }
      ]
    },
    {
      "cell_type": "code",
      "source": [
        "accuracy_score(y_test,y_pred)"
      ],
      "metadata": {
        "colab": {
          "base_uri": "https://localhost:8080/"
        },
        "id": "_33-Ck5Q8fM7",
        "outputId": "d96923ff-a733-4917-88fc-1e03f496379d"
      },
      "execution_count": 50,
      "outputs": [
        {
          "output_type": "execute_result",
          "data": {
            "text/plain": [
              "0.7608232789212207"
            ]
          },
          "metadata": {},
          "execution_count": 50
        }
      ]
    },
    {
      "cell_type": "code",
      "source": [
        "#making confousion matrix\n",
        "from sklearn.metrics import confusion_matrix\n",
        "cm = confusion_matrix(y_test,y_pred)"
      ],
      "metadata": {
        "id": "Yml1N9eT_jEd"
      },
      "execution_count": 51,
      "outputs": []
    },
    {
      "cell_type": "code",
      "source": [
        "#ploting confusion matrix\n",
        "import seaborn as sns\n",
        "sns.heatmap(cm,annot=True)"
      ],
      "metadata": {
        "colab": {
          "base_uri": "https://localhost:8080/",
          "height": 447
        },
        "id": "zP4De9LKCezX",
        "outputId": "d52ea82b-e45c-41c9-ce72-c4eaef2d6f71"
      },
      "execution_count": 52,
      "outputs": [
        {
          "output_type": "execute_result",
          "data": {
            "text/plain": [
              "<Axes: >"
            ]
          },
          "metadata": {},
          "execution_count": 52
        },
        {
          "output_type": "display_data",
          "data": {
            "text/plain": [
              "<Figure size 640x480 with 2 Axes>"
            ],
            "image/png": "[encoded data removed]"
          },
          "metadata": {}
        }
      ]
    },
    {
      "cell_type": "code",
      "source": [
        "# get the weights\n",
        "model.get_weights()"
      ],
      "metadata": {
        "colab": {
          "base_uri": "https://localhost:8080/"
        },
        "id": "Z7mcJYQXCjJ9",
        "outputId": "b0b44aa5-4c35-4640-8326-bb70db521518"
      },
      "execution_count": 54,
      "outputs": [
        {
          "output_type": "execute_result",
          "data": {
            "text/plain": [
              "[array([[-1.86236333e-02,  3.94104933e-03,  5.28681353e-02, ...,\n",
              "         -1.65424161e-02, -1.42459460e-02,  2.66802199e-02],\n",
              "        [-2.23510936e-02,  1.85317092e-03, -7.56403059e-03, ...,\n",
              "         -7.54682347e-04,  6.06407924e-03, -2.12921575e-02],\n",
              "        [-1.51600072e-03, -1.43756354e-02,  8.98184907e-03, ...,\n",
              "         -1.33019835e-02, -3.11649069e-02, -1.69094317e-02],\n",
              "        ...,\n",
              "        [ 2.06432641e-02, -3.25484946e-03,  5.40374041e-01, ...,\n",
              "          1.45075172e-02,  2.66522169e-04,  2.58951262e-03],\n",
              "        [ 1.03948340e-02,  1.61801688e-02, -1.11125362e+00, ...,\n",
              "         -5.10951504e-04,  1.84364989e-02, -1.92160346e-02],\n",
              "        [ 5.36917523e-03,  1.07847154e-04, -9.01646316e-01, ...,\n",
              "         -2.43678745e-02, -2.83808894e-02,  8.60327110e-03]], dtype=float32),\n",
              " array([-0.00908593, -0.01604416,  0.02226926, -0.01208647,  0.        ,\n",
              "        -0.0191868 ,  0.        ], dtype=float32),\n",
              " array([[-0.15297095,  0.22518861, -0.5451661 , -0.61634296,  0.44706953,\n",
              "         -0.16347504],\n",
              "        [-0.6847796 ,  0.44815996,  0.525004  ,  0.42787254,  0.39782956,\n",
              "          0.28619966],\n",
              "        [ 1.6821527 ,  0.9696858 ,  1.3440286 , -0.18552488,  1.4378595 ,\n",
              "         -1.1275735 ],\n",
              "        [ 0.0913622 , -0.07542305, -0.34405324,  0.59279954, -0.51206946,\n",
              "          0.43954268],\n",
              "        [-0.08282858, -0.2493116 , -0.521559  , -0.47035444, -0.25267985,\n",
              "          0.6035863 ],\n",
              "        [ 0.19474943,  0.48569888, -0.04368967, -0.3124664 , -0.64497113,\n",
              "          0.12421724],\n",
              "        [ 0.61017096,  0.14918429,  0.09211433,  0.0145961 ,  0.16815609,\n",
              "         -0.32364368]], dtype=float32),\n",
              " array([-1.8665865e-03, -1.5940858e-03, -1.7314632e-03, -2.1184312e-02,\n",
              "        -1.6970052e-03,  2.0751388e+00], dtype=float32),\n",
              " array([[ 1.0971246 ],\n",
              "        [ 1.7502748 ],\n",
              "        [ 1.2957122 ],\n",
              "        [ 0.87250847],\n",
              "        [ 1.4133469 ],\n",
              "        [-3.2679706 ]], dtype=float32),\n",
              " array([-1.505962], dtype=float32)]"
            ]
          },
          "metadata": {},
          "execution_count": 54
        }
      ]
    },
    {
      "cell_type": "markdown",
      "source": [
        "Saving model"
      ],
      "metadata": {
        "id": "T7shvqewDaDW"
      }
    },
    {
      "cell_type": "code",
      "source": [
        "model.save('ChurnModel_ANN')"
      ],
      "metadata": {
        "id": "a_dx7H-LDsrf"
      },
      "execution_count": 55,
      "outputs": []
    },
    {
      "cell_type": "code",
      "source": [],
      "metadata": {
        "id": "tzT1Wy9OD1TZ"
      },
      "execution_count": null,
      "outputs": []
    }
  ]
}